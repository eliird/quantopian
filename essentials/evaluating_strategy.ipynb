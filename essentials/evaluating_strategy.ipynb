{
 "cells": [
  {
   "cell_type": "code",
   "execution_count": 13,
   "metadata": {},
   "outputs": [],
   "source": [
    "import yfinance as yf\n",
    "import datetime\n",
    "import matplotlib.pyplot as plt\n",
    "import numpy as np\n",
    "import seaborn as sns"
   ]
  },
  {
   "cell_type": "code",
   "execution_count": 14,
   "metadata": {},
   "outputs": [
    {
     "name": "stderr",
     "output_type": "stream",
     "text": [
      "[*********************100%***********************]  3 of 3 completed\n"
     ]
    },
    {
     "data": {
      "text/html": [
       "<div>\n",
       "<style scoped>\n",
       "    .dataframe tbody tr th:only-of-type {\n",
       "        vertical-align: middle;\n",
       "    }\n",
       "\n",
       "    .dataframe tbody tr th {\n",
       "        vertical-align: top;\n",
       "    }\n",
       "\n",
       "    .dataframe thead tr th {\n",
       "        text-align: left;\n",
       "    }\n",
       "\n",
       "    .dataframe thead tr:last-of-type th {\n",
       "        text-align: right;\n",
       "    }\n",
       "</style>\n",
       "<table border=\"1\" class=\"dataframe\">\n",
       "  <thead>\n",
       "    <tr>\n",
       "      <th>Price</th>\n",
       "      <th colspan=\"3\" halign=\"left\">Close</th>\n",
       "      <th colspan=\"3\" halign=\"left\">High</th>\n",
       "      <th colspan=\"3\" halign=\"left\">Low</th>\n",
       "      <th colspan=\"3\" halign=\"left\">Open</th>\n",
       "      <th colspan=\"3\" halign=\"left\">Volume</th>\n",
       "    </tr>\n",
       "    <tr>\n",
       "      <th>Ticker</th>\n",
       "      <th>AMD</th>\n",
       "      <th>NVDA</th>\n",
       "      <th>SPY</th>\n",
       "      <th>AMD</th>\n",
       "      <th>NVDA</th>\n",
       "      <th>SPY</th>\n",
       "      <th>AMD</th>\n",
       "      <th>NVDA</th>\n",
       "      <th>SPY</th>\n",
       "      <th>AMD</th>\n",
       "      <th>NVDA</th>\n",
       "      <th>SPY</th>\n",
       "      <th>AMD</th>\n",
       "      <th>NVDA</th>\n",
       "      <th>SPY</th>\n",
       "    </tr>\n",
       "    <tr>\n",
       "      <th>Date</th>\n",
       "      <th></th>\n",
       "      <th></th>\n",
       "      <th></th>\n",
       "      <th></th>\n",
       "      <th></th>\n",
       "      <th></th>\n",
       "      <th></th>\n",
       "      <th></th>\n",
       "      <th></th>\n",
       "      <th></th>\n",
       "      <th></th>\n",
       "      <th></th>\n",
       "      <th></th>\n",
       "      <th></th>\n",
       "      <th></th>\n",
       "    </tr>\n",
       "  </thead>\n",
       "  <tbody>\n",
       "    <tr>\n",
       "      <th>1980-03-17</th>\n",
       "      <td>3.145833</td>\n",
       "      <td>NaN</td>\n",
       "      <td>NaN</td>\n",
       "      <td>3.302083</td>\n",
       "      <td>NaN</td>\n",
       "      <td>NaN</td>\n",
       "      <td>3.125000</td>\n",
       "      <td>NaN</td>\n",
       "      <td>NaN</td>\n",
       "      <td>0.000000</td>\n",
       "      <td>NaN</td>\n",
       "      <td>NaN</td>\n",
       "      <td>219600</td>\n",
       "      <td>NaN</td>\n",
       "      <td>NaN</td>\n",
       "    </tr>\n",
       "    <tr>\n",
       "      <th>1980-03-18</th>\n",
       "      <td>3.031250</td>\n",
       "      <td>NaN</td>\n",
       "      <td>NaN</td>\n",
       "      <td>3.125000</td>\n",
       "      <td>NaN</td>\n",
       "      <td>NaN</td>\n",
       "      <td>2.937500</td>\n",
       "      <td>NaN</td>\n",
       "      <td>NaN</td>\n",
       "      <td>0.000000</td>\n",
       "      <td>NaN</td>\n",
       "      <td>NaN</td>\n",
       "      <td>727200</td>\n",
       "      <td>NaN</td>\n",
       "      <td>NaN</td>\n",
       "    </tr>\n",
       "    <tr>\n",
       "      <th>1980-03-19</th>\n",
       "      <td>3.041667</td>\n",
       "      <td>NaN</td>\n",
       "      <td>NaN</td>\n",
       "      <td>3.083333</td>\n",
       "      <td>NaN</td>\n",
       "      <td>NaN</td>\n",
       "      <td>3.020833</td>\n",
       "      <td>NaN</td>\n",
       "      <td>NaN</td>\n",
       "      <td>0.000000</td>\n",
       "      <td>NaN</td>\n",
       "      <td>NaN</td>\n",
       "      <td>295200</td>\n",
       "      <td>NaN</td>\n",
       "      <td>NaN</td>\n",
       "    </tr>\n",
       "    <tr>\n",
       "      <th>1980-03-20</th>\n",
       "      <td>3.010417</td>\n",
       "      <td>NaN</td>\n",
       "      <td>NaN</td>\n",
       "      <td>3.062500</td>\n",
       "      <td>NaN</td>\n",
       "      <td>NaN</td>\n",
       "      <td>3.010417</td>\n",
       "      <td>NaN</td>\n",
       "      <td>NaN</td>\n",
       "      <td>0.000000</td>\n",
       "      <td>NaN</td>\n",
       "      <td>NaN</td>\n",
       "      <td>159600</td>\n",
       "      <td>NaN</td>\n",
       "      <td>NaN</td>\n",
       "    </tr>\n",
       "    <tr>\n",
       "      <th>1980-03-21</th>\n",
       "      <td>2.916667</td>\n",
       "      <td>NaN</td>\n",
       "      <td>NaN</td>\n",
       "      <td>3.020833</td>\n",
       "      <td>NaN</td>\n",
       "      <td>NaN</td>\n",
       "      <td>2.906250</td>\n",
       "      <td>NaN</td>\n",
       "      <td>NaN</td>\n",
       "      <td>0.000000</td>\n",
       "      <td>NaN</td>\n",
       "      <td>NaN</td>\n",
       "      <td>130800</td>\n",
       "      <td>NaN</td>\n",
       "      <td>NaN</td>\n",
       "    </tr>\n",
       "    <tr>\n",
       "      <th>...</th>\n",
       "      <td>...</td>\n",
       "      <td>...</td>\n",
       "      <td>...</td>\n",
       "      <td>...</td>\n",
       "      <td>...</td>\n",
       "      <td>...</td>\n",
       "      <td>...</td>\n",
       "      <td>...</td>\n",
       "      <td>...</td>\n",
       "      <td>...</td>\n",
       "      <td>...</td>\n",
       "      <td>...</td>\n",
       "      <td>...</td>\n",
       "      <td>...</td>\n",
       "      <td>...</td>\n",
       "    </tr>\n",
       "    <tr>\n",
       "      <th>2024-12-16</th>\n",
       "      <td>126.690002</td>\n",
       "      <td>132.000000</td>\n",
       "      <td>604.754578</td>\n",
       "      <td>127.760002</td>\n",
       "      <td>134.399994</td>\n",
       "      <td>605.741308</td>\n",
       "      <td>123.120003</td>\n",
       "      <td>130.419998</td>\n",
       "      <td>603.179921</td>\n",
       "      <td>126.010002</td>\n",
       "      <td>134.179993</td>\n",
       "      <td>603.967249</td>\n",
       "      <td>42090300</td>\n",
       "      <td>237951100.0</td>\n",
       "      <td>43695200.0</td>\n",
       "    </tr>\n",
       "    <tr>\n",
       "      <th>2024-12-17</th>\n",
       "      <td>125.019997</td>\n",
       "      <td>130.389999</td>\n",
       "      <td>602.262939</td>\n",
       "      <td>127.080002</td>\n",
       "      <td>131.589996</td>\n",
       "      <td>603.139992</td>\n",
       "      <td>123.150002</td>\n",
       "      <td>126.860001</td>\n",
       "      <td>600.867672</td>\n",
       "      <td>124.449997</td>\n",
       "      <td>129.089996</td>\n",
       "      <td>602.163299</td>\n",
       "      <td>43314900</td>\n",
       "      <td>259410300.0</td>\n",
       "      <td>55773500.0</td>\n",
       "    </tr>\n",
       "    <tr>\n",
       "      <th>2024-12-18</th>\n",
       "      <td>121.410004</td>\n",
       "      <td>128.910004</td>\n",
       "      <td>584.313416</td>\n",
       "      <td>127.750000</td>\n",
       "      <td>136.699997</td>\n",
       "      <td>604.375836</td>\n",
       "      <td>120.430000</td>\n",
       "      <td>128.279999</td>\n",
       "      <td>583.924709</td>\n",
       "      <td>125.430000</td>\n",
       "      <td>133.860001</td>\n",
       "      <td>601.953994</td>\n",
       "      <td>49724400</td>\n",
       "      <td>277444500.0</td>\n",
       "      <td>108248700.0</td>\n",
       "    </tr>\n",
       "    <tr>\n",
       "      <th>2024-12-19</th>\n",
       "      <td>118.879997</td>\n",
       "      <td>130.679993</td>\n",
       "      <td>584.133972</td>\n",
       "      <td>123.379997</td>\n",
       "      <td>134.029999</td>\n",
       "      <td>591.010851</td>\n",
       "      <td>118.449997</td>\n",
       "      <td>129.550003</td>\n",
       "      <td>583.884811</td>\n",
       "      <td>122.160004</td>\n",
       "      <td>131.759995</td>\n",
       "      <td>589.376338</td>\n",
       "      <td>46160700</td>\n",
       "      <td>209719200.0</td>\n",
       "      <td>85919500.0</td>\n",
       "    </tr>\n",
       "    <tr>\n",
       "      <th>2024-12-20</th>\n",
       "      <td>119.209999</td>\n",
       "      <td>134.699997</td>\n",
       "      <td>591.150024</td>\n",
       "      <td>121.860001</td>\n",
       "      <td>135.279999</td>\n",
       "      <td>595.750000</td>\n",
       "      <td>117.900002</td>\n",
       "      <td>128.220001</td>\n",
       "      <td>580.909973</td>\n",
       "      <td>118.000000</td>\n",
       "      <td>129.809998</td>\n",
       "      <td>581.770020</td>\n",
       "      <td>53366800</td>\n",
       "      <td>305207400.0</td>\n",
       "      <td>125535900.0</td>\n",
       "    </tr>\n",
       "  </tbody>\n",
       "</table>\n",
       "<p>11287 rows × 15 columns</p>\n",
       "</div>"
      ],
      "text/plain": [
       "Price            Close                                High              \\\n",
       "Ticker             AMD        NVDA         SPY         AMD        NVDA   \n",
       "Date                                                                     \n",
       "1980-03-17    3.145833         NaN         NaN    3.302083         NaN   \n",
       "1980-03-18    3.031250         NaN         NaN    3.125000         NaN   \n",
       "1980-03-19    3.041667         NaN         NaN    3.083333         NaN   \n",
       "1980-03-20    3.010417         NaN         NaN    3.062500         NaN   \n",
       "1980-03-21    2.916667         NaN         NaN    3.020833         NaN   \n",
       "...                ...         ...         ...         ...         ...   \n",
       "2024-12-16  126.690002  132.000000  604.754578  127.760002  134.399994   \n",
       "2024-12-17  125.019997  130.389999  602.262939  127.080002  131.589996   \n",
       "2024-12-18  121.410004  128.910004  584.313416  127.750000  136.699997   \n",
       "2024-12-19  118.879997  130.679993  584.133972  123.379997  134.029999   \n",
       "2024-12-20  119.209999  134.699997  591.150024  121.860001  135.279999   \n",
       "\n",
       "Price                          Low                                Open  \\\n",
       "Ticker             SPY         AMD        NVDA         SPY         AMD   \n",
       "Date                                                                     \n",
       "1980-03-17         NaN    3.125000         NaN         NaN    0.000000   \n",
       "1980-03-18         NaN    2.937500         NaN         NaN    0.000000   \n",
       "1980-03-19         NaN    3.020833         NaN         NaN    0.000000   \n",
       "1980-03-20         NaN    3.010417         NaN         NaN    0.000000   \n",
       "1980-03-21         NaN    2.906250         NaN         NaN    0.000000   \n",
       "...                ...         ...         ...         ...         ...   \n",
       "2024-12-16  605.741308  123.120003  130.419998  603.179921  126.010002   \n",
       "2024-12-17  603.139992  123.150002  126.860001  600.867672  124.449997   \n",
       "2024-12-18  604.375836  120.430000  128.279999  583.924709  125.430000   \n",
       "2024-12-19  591.010851  118.449997  129.550003  583.884811  122.160004   \n",
       "2024-12-20  595.750000  117.900002  128.220001  580.909973  118.000000   \n",
       "\n",
       "Price                                 Volume                            \n",
       "Ticker            NVDA         SPY       AMD         NVDA          SPY  \n",
       "Date                                                                    \n",
       "1980-03-17         NaN         NaN    219600          NaN          NaN  \n",
       "1980-03-18         NaN         NaN    727200          NaN          NaN  \n",
       "1980-03-19         NaN         NaN    295200          NaN          NaN  \n",
       "1980-03-20         NaN         NaN    159600          NaN          NaN  \n",
       "1980-03-21         NaN         NaN    130800          NaN          NaN  \n",
       "...                ...         ...       ...          ...          ...  \n",
       "2024-12-16  134.179993  603.967249  42090300  237951100.0   43695200.0  \n",
       "2024-12-17  129.089996  602.163299  43314900  259410300.0   55773500.0  \n",
       "2024-12-18  133.860001  601.953994  49724400  277444500.0  108248700.0  \n",
       "2024-12-19  131.759995  589.376338  46160700  209719200.0   85919500.0  \n",
       "2024-12-20  129.809998  581.770020  53366800  305207400.0  125535900.0  \n",
       "\n",
       "[11287 rows x 15 columns]"
      ]
     },
     "execution_count": 14,
     "metadata": {},
     "output_type": "execute_result"
    }
   ],
   "source": [
    "# start = datetime.datetime.now() - datetime.timedelta(7)\n",
    "# end = datetime.datetime.now()\n",
    "\n",
    "# start = '2020-01-01'\n",
    "# end = datetime.datetime.now()\n",
    "\n",
    "df = yf.download('SPY, NVDA, AMD')\n",
    "df"
   ]
  },
  {
   "cell_type": "code",
   "execution_count": 15,
   "metadata": {},
   "outputs": [
    {
     "data": {
      "text/plain": [
       "<Axes: xlabel='Date'>"
      ]
     },
     "execution_count": 15,
     "metadata": {},
     "output_type": "execute_result"
    },
    {
     "data": {
      "image/png": "[encoded data removed]",
      "text/plain": [
       "<Figure size 640x480 with 1 Axes>"
      ]
     },
     "metadata": {},
     "output_type": "display_data"
    }
   ],
   "source": [
    "df['Close']['NVDA'].plot()\n",
    "df['Close']['AMD'].plot()\n"
   ]
  },
  {
   "cell_type": "code",
   "execution_count": 16,
   "metadata": {},
   "outputs": [
    {
     "data": {
      "text/plain": [
       "<Axes: xlabel='Date'>"
      ]
     },
     "execution_count": 16,
     "metadata": {},
     "output_type": "execute_result"
    },
    {
     "data": {
      "image/png": "[encoded data removed]",
      "text/plain": [
       "<Figure size 640x480 with 1 Axes>"
      ]
     },
     "metadata": {},
     "output_type": "display_data"
    }
   ],
   "source": [
    "spy = df['Close']['SPY']\n",
    "# spy.plot()\n",
    "\n",
    "ma1 = spy.rolling(50).mean()\n",
    "ma2 = spy.rolling(200).mean()\n",
    "ma1.plot()\n",
    "ma2.plot()"
   ]
  },
  {
   "cell_type": "code",
   "execution_count": 17,
   "metadata": {},
   "outputs": [
    {
     "name": "stdout",
     "output_type": "stream",
     "text": [
      "enter short None\n",
      "entery long -1.565582275390625\n",
      "enter short 34.58220672607422\n",
      "entery long -12.294353485107422\n",
      "enter short 17.23088836669922\n",
      "entery long 17.78559112548828\n",
      "enter short -1.2952041625976562\n",
      "entery long 9.422111511230469\n",
      "enter short 12.231025695800781\n",
      "entery long -1.5260009765625\n",
      "enter short 12.327018737792969\n",
      "entery long -2.760833740234375\n",
      "enter short 14.746337890625\n",
      "entery long 37.805809020996094\n",
      "enter short 12.354240417480469\n",
      "entery long -9.527923583984375\n",
      "enter short 2.6955032348632812\n",
      "entery long -10.514816284179688\n",
      "enter short 61.82758331298828\n",
      "entery long -9.207321166992188\n",
      "enter short -13.9901123046875\n",
      "entery long -20.042770385742188\n",
      "enter short 59.05021667480469\n",
      "entery long -16.777862548828125\n",
      "enter short -16.544754028320312\n",
      "entery long -56.60289001464844\n",
      "enter short 119.92593383789062\n",
      "entery long 23.259246826171875\n"
     ]
    }
   ],
   "source": [
    "entry = None\n",
    "pnl = None\n",
    "pnls = []\n",
    "dates = []\n",
    "\n",
    "for i in range(len(spy)):\n",
    "    if (ma1.iloc[i] - ma2.iloc[i]) > 0 and (ma1.iloc[i-1] - ma2.iloc[i-1]) < 0:\n",
    "        if entry:\n",
    "            # calculate pnl for previous short\n",
    "            pnl = entry - spy.iloc[i]\n",
    "            pnls.append(pnl)\n",
    "            dates.append(spy.index[i])\n",
    "        entry = spy.iloc[i] \n",
    "        print(\"entery long\", pnl)\n",
    "\n",
    "    elif (ma1.iloc[i] - ma2.iloc[i]) < 0 and (ma1.iloc[i-1] - ma2.iloc[i-1]) > 0:\n",
    "        if entry:\n",
    "            # calculate pnl for previous long\n",
    "            pnl = spy.iloc[i] - entry\n",
    "            pnls.append(pnl)\n",
    "            dates.append(spy.index[i])\n",
    "\n",
    "        entry = spy.iloc[i] \n",
    "        \n",
    "        print(\"enter short\", pnl)"
   ]
  },
  {
   "cell_type": "code",
   "execution_count": 18,
   "metadata": {},
   "outputs": [
    {
     "data": {
      "text/plain": [
       "[<matplotlib.lines.Line2D at 0x7f4e940a3e60>]"
      ]
     },
     "execution_count": 18,
     "metadata": {},
     "output_type": "execute_result"
    },
    {
     "data": {
      "image/png": "[encoded data removed]",
      "text/plain": [
       "<Figure size 640x480 with 1 Axes>"
      ]
     },
     "metadata": {},
     "output_type": "display_data"
    }
   ],
   "source": [
    "plt.plot(dates, np.cumsum(pnls))"
   ]
  },
  {
   "cell_type": "markdown",
   "metadata": {},
   "source": [
    "# Percentage PNL\n",
    "\n",
    "Percentage is important because just using cash pnl does not account for the current price of stock"
   ]
  },
  {
   "cell_type": "code",
   "execution_count": 19,
   "metadata": {},
   "outputs": [
    {
     "name": "stdout",
     "output_type": "stream",
     "text": [
      "enter short None\n",
      "entery long -0.060324673883438366\n",
      "enter short 1.2567037815542508\n",
      "entery long -0.1979754589355956\n",
      "enter short 0.23161432163123055\n",
      "entery long 0.19411152203391382\n",
      "enter short -0.017540674754674395\n",
      "entery long 0.129879834007057\n",
      "enter short 0.1937658017250486\n",
      "entery long -0.020251161134002656\n",
      "enter short 0.16034154948062293\n",
      "entery long -0.03094870134812799\n",
      "enter short 0.16034274020608943\n",
      "entery long 0.35427243889238813\n",
      "enter short 0.17928566074548655\n",
      "entery long -0.11724889407055829\n",
      "enter short 0.02968933113480211\n",
      "entery long -0.11247500789782665\n",
      "enter short 0.5944924608458498\n",
      "entery long -0.05552325295183892\n",
      "enter short -0.07992727480680191\n",
      "entery long -0.1244541546778404\n",
      "enter short 0.32608542698959664\n",
      "entery long -0.0698674711886291\n",
      "enter short -0.06439745792428034\n",
      "entery long -0.2354808646766483\n",
      "enter short 0.4038258366827636\n",
      "entery long 0.05579090534434181\n"
     ]
    }
   ],
   "source": [
    "entry = None\n",
    "pnl = None\n",
    "pnls = []\n",
    "dates = []\n",
    "\n",
    "for i in range(len(spy)):\n",
    "    if (ma1.iloc[i] - ma2.iloc[i]) > 0 and (ma1.iloc[i-1] - ma2.iloc[i-1]) < 0:\n",
    "        if entry:\n",
    "            # calculate pnl for previous short\n",
    "            pnl = (entry - spy.iloc[i])/entry  # normalize with entry to get the percentage change\n",
    "            pnls.append(pnl)\n",
    "            dates.append(spy.index[i])\n",
    "        entry = spy.iloc[i] \n",
    "        print(\"entery long\", pnl)\n",
    "\n",
    "    elif (ma1.iloc[i] - ma2.iloc[i]) < 0 and (ma1.iloc[i-1] - ma2.iloc[i-1]) > 0:\n",
    "        if entry:\n",
    "            # calculate pnl for previous long\n",
    "            pnl = (spy.iloc[i] - entry) / entry # normalize with entry to get percentage change\n",
    "            pnls.append(pnl)\n",
    "            dates.append(spy.index[i])\n",
    "\n",
    "        entry = spy.iloc[i] \n",
    "        \n",
    "        print(\"enter short\", pnl)"
   ]
  },
  {
   "cell_type": "code",
   "execution_count": 20,
   "metadata": {},
   "outputs": [
    {
     "data": {
      "text/plain": [
       "[<matplotlib.lines.Line2D at 0x7f4e9441bd40>]"
      ]
     },
     "execution_count": 20,
     "metadata": {},
     "output_type": "execute_result"
    },
    {
     "data": {
      "image/png": "[encoded data removed]",
      "text/plain": [
       "<Figure size 640x480 with 1 Axes>"
      ]
     },
     "metadata": {},
     "output_type": "display_data"
    }
   ],
   "source": [
    "# to plot in case of percentage we need to cummulatively multiply instead of cummulative sum\n",
    "# but we cannot just do cum product because percentages are small and  we get really small values so we add 1 to show percentage increase in value from entry reference of 1\n",
    "plt.plot(dates, np.cumprod([1+x for x in pnls]), '-o')"
   ]
  },
  {
   "cell_type": "markdown",
   "metadata": {},
   "source": [
    "## Unrealized Pnls\n",
    "- Looking at the pnl curve is not enough, because it does not tell us about the risks involved with the strategy.\n",
    "- So we need to look in detail and analyze whats happening to equity during trade\n",
    "- A good measure is sharpe ratio.\n",
    "- sharpe ratio is ratio of pnl with risk of strategy\n",
    "- The above graph is realized pnl\n",
    "- need to also pay attention to unrealized pnl\n"
   ]
  },
  {
   "cell_type": "code",
   "execution_count": 21,
   "metadata": {},
   "outputs": [
    {
     "name": "stdout",
     "output_type": "stream",
     "text": [
      "enter short None\n",
      "entery long -0.060324673883438366\n",
      "enter short 1.2567037815542508\n",
      "entery long -0.1979754589355956\n",
      "enter short 0.23161432163123055\n",
      "entery long 0.19411152203391382\n",
      "enter short -0.017540674754674395\n",
      "entery long 0.129879834007057\n",
      "enter short 0.1937658017250486\n",
      "entery long -0.020251161134002656\n",
      "enter short 0.16034154948062293\n",
      "entery long -0.03094870134812799\n",
      "enter short 0.16034274020608943\n",
      "entery long 0.35427243889238813\n",
      "enter short 0.17928566074548655\n",
      "entery long -0.11724889407055829\n",
      "enter short 0.02968933113480211\n",
      "entery long -0.11247500789782665\n",
      "enter short 0.5944924608458498\n",
      "entery long -0.05552325295183892\n",
      "enter short -0.07992727480680191\n",
      "entery long -0.1244541546778404\n",
      "enter short 0.32608542698959664\n",
      "entery long -0.0698674711886291\n",
      "enter short -0.06439745792428034\n",
      "entery long -0.2354808646766483\n",
      "enter short 0.4038258366827636\n",
      "entery long 0.05579090534434181\n"
     ]
    }
   ],
   "source": [
    "entry = None\n",
    "pnl = None\n",
    "pnls = []\n",
    "dates = []\n",
    "unrlzd = []\n",
    "unrlzd_dates = []\n",
    "inpos = 0\n",
    "for i in range(len(spy)):\n",
    "    unr = ((spy.iloc[i] - spy.iloc[i-1])/spy.iloc[i-1]) * inpos  # calculate unrealized position\n",
    "    unrlzd.append(unr)\n",
    "    unrlzd_dates.append(spy.index[i])\n",
    "    if (ma1.iloc[i] - ma2.iloc[i]) > 0 and (ma1.iloc[i-1] - ma2.iloc[i-1]) < 0:\n",
    "        if entry:\n",
    "            # calculate pnl for previous short\n",
    "            pnl = (entry - spy.iloc[i])/entry  # normalize with entry to get the percentage change\n",
    "            pnls.append(pnl)\n",
    "            dates.append(spy.index[i])\n",
    "        entry = spy.iloc[i] \n",
    "        inpos = 1\n",
    "        print(\"entery long\", pnl)\n",
    "\n",
    "    elif (ma1.iloc[i] - ma2.iloc[i]) < 0 and (ma1.iloc[i-1] - ma2.iloc[i-1]) > 0:\n",
    "        if entry:\n",
    "            # calculate pnl for previous long\n",
    "            pnl = (spy.iloc[i] - entry) / entry # normalize with entry to get percentage change\n",
    "            pnls.append(pnl)\n",
    "            dates.append(spy.index[i])\n",
    "\n",
    "        entry = spy.iloc[i] \n",
    "        inpos = -1\n",
    "        print(\"enter short\", pnl)"
   ]
  },
  {
   "cell_type": "code",
   "execution_count": 22,
   "metadata": {},
   "outputs": [
    {
     "data": {
      "text/plain": [
       "[<matplotlib.lines.Line2D at 0x7f4e87d52720>]"
      ]
     },
     "execution_count": 22,
     "metadata": {},
     "output_type": "execute_result"
    },
    {
     "data": {
      "image/png": "[encoded data removed]",
      "text/plain": [
       "<Figure size 640x480 with 1 Axes>"
      ]
     },
     "metadata": {},
     "output_type": "display_data"
    }
   ],
   "source": [
    "# unrealized pnl\n",
    "plt.plot(unrlzd_dates, np.nancumprod([1+ x for x in unrlzd]))\n",
    "plt.plot(dates, np.cumprod([1+x for x in pnls]), '-o')"
   ]
  },
  {
   "cell_type": "markdown",
   "metadata": {},
   "source": [
    "# Evaluating a Strategy"
   ]
  },
  {
   "cell_type": "markdown",
   "metadata": {},
   "source": [
    "### sharpe ratio\n",
    "- calculated on daily changes in the unrealized pnls\n",
    "- mean of per candle returns, "
   ]
  },
  {
   "cell_type": "code",
   "execution_count": 44,
   "metadata": {},
   "outputs": [
    {
     "data": {
      "text/plain": [
       "np.float64(0.1520142413009829)"
      ]
     },
     "execution_count": 44,
     "metadata": {},
     "output_type": "execute_result"
    }
   ],
   "source": [
    "# risk adjusted returns\n",
    "time_interval = 252 # annual number of days to trade\n",
    "rar = np.nanmean(unrlzd)/np.nanstd(unrlzd) * np.sqrt(time_interval)\n",
    "rar"
   ]
  },
  {
   "cell_type": "markdown",
   "metadata": {},
   "source": [
    "### profit per trade\n",
    "- every trade has commissions, but it might look good on paper but if our wins are not overcoming those commissions"
   ]
  },
  {
   "cell_type": "code",
   "execution_count": 45,
   "metadata": {},
   "outputs": [
    {
     "data": {
      "text/plain": [
       "np.float64(0.00836373382987406)"
      ]
     },
     "execution_count": 45,
     "metadata": {},
     "output_type": "execute_result"
    }
   ],
   "source": [
    "commissions = 0.002 # commissions in dollar of buying and seeling\n",
    "np.mean(pnls) - commissions  # per trade profit"
   ]
  },
  {
   "cell_type": "markdown",
   "metadata": {},
   "source": [
    "### average hold time\n",
    "\n",
    "shorter hold times more commissions as more number of trades\n"
   ]
  },
  {
   "cell_type": "code",
   "execution_count": 42,
   "metadata": {},
   "outputs": [
    {
     "name": "stdout",
     "output_type": "stream",
     "text": [
      "enter short None\n",
      "entery long -0.029798764397200837\n",
      "enter short -0.03606440405538099\n",
      "entery long -0.03724549505244077\n",
      "enter short -0.015389197882315036\n",
      "entery long -0.04356075914946158\n",
      "enter short 0.38560694969140225\n",
      "entery long -0.06231303867397775\n",
      "enter short 0.15146408981623555\n",
      "entery long -0.10247962392004399\n",
      "enter short 0.10954209552519885\n",
      "entery long -0.04050352322987612\n",
      "enter short 0.1220778538262262\n",
      "entery long -0.07149779250208352\n",
      "enter short 0.19074200671455369\n",
      "entery long -0.007476304043502292\n",
      "enter short -0.0279977466487294\n",
      "entery long -0.07249542862676518\n",
      "enter short -0.01644227432329134\n",
      "entery long -0.1135552722118666\n",
      "enter short -0.07451364086397588\n",
      "entery long -0.028312463104000974\n",
      "enter short -0.034631504502457215\n",
      "entery long -0.04745946981387083\n",
      "enter short -0.025267065951586433\n",
      "entery long 0.08429213725058389\n",
      "enter short -0.07476112974178874\n",
      "entery long 0.03675011881688402\n",
      "enter short -0.031327786627213736\n",
      "entery long -0.056632828016094795\n",
      "enter short -0.033169083955253864\n",
      "entery long 0.21241159209599783\n",
      "enter short -0.05019338704532938\n",
      "entery long -0.08057991246075706\n",
      "enter short 0.2313061760572443\n",
      "entery long -0.043951228742244636\n",
      "enter short -0.02932829437521265\n",
      "entery long -0.034401030597712275\n",
      "enter short 0.056358191005222304\n",
      "entery long -0.01954558890143777\n",
      "enter short -0.016793750593272226\n",
      "entery long -0.0649364037293064\n",
      "enter short 0.04051381708147706\n",
      "entery long -0.012440160636066597\n",
      "enter short 0.0993126317260084\n",
      "entery long -0.0204294286654634\n",
      "enter short 0.013944954809770298\n",
      "entery long -0.0555931254450921\n",
      "enter short -0.05780577279214882\n",
      "entery long 0.008268289212716\n",
      "enter short -0.08679556770831902\n",
      "entery long 0.3065040085829553\n",
      "enter short 0.28629768970411973\n",
      "entery long -0.03618735570585548\n",
      "enter short -0.05810685414415305\n",
      "entery long -0.07432515987209486\n",
      "enter short 0.13115646566038916\n",
      "entery long -0.044542567635804615\n",
      "enter short -0.09395032415350313\n",
      "entery long -0.05524004195298196\n",
      "enter short 0.0610296337563209\n",
      "entery long -0.03278932398579591\n",
      "enter short 0.027191845543446086\n",
      "entery long -0.033349988295035125\n",
      "enter short 0.3508691047764935\n",
      "entery long -0.0941371047837613\n",
      "enter short 0.03233511146946599\n",
      "entery long -0.011037115603261892\n",
      "enter short -0.027649177440102056\n",
      "entery long -0.02471448072463699\n",
      "enter short -0.07145549899761679\n",
      "entery long -0.07187819024693849\n",
      "enter short 0.03530435382824094\n",
      "entery long -0.05225535525572546\n",
      "enter short 0.23920006218499099\n",
      "entery long -0.026238381498638427\n",
      "enter short -0.000326905972327372\n",
      "entery long -0.02185365336960037\n",
      "enter short 0.05523376381916734\n",
      "entery long -0.03817072262378091\n",
      "enter short -0.06996817941818256\n",
      "entery long -0.14453902284212575\n",
      "enter short 0.5034316225850389\n",
      "entery long 0.05346691357955829\n",
      "enter short -0.11812845905674552\n",
      "entery long -0.04727216079612895\n",
      "enter short -0.024562467513418746\n",
      "entery long -0.010683727138421646\n",
      "enter short 0.10703212772810054\n",
      "entery long -0.07022082797683964\n"
     ]
    }
   ],
   "source": [
    "ma1 = spy.rolling(20).mean()\n",
    "ma2 = spy.rolling(100).mean()\n",
    "\n",
    "entry = None\n",
    "pnl = None\n",
    "pnls = []\n",
    "dates = []\n",
    "unrlzd = []\n",
    "unrlzd_dates = []\n",
    "\n",
    "hold_times = []\n",
    "\n",
    "inpos = 0\n",
    "for i in range(len(spy)):\n",
    "    unr = ((spy.iloc[i] - spy.iloc[i-1])/spy.iloc[i-1]) * inpos  # calculate unrealized position\n",
    "    unrlzd.append(unr)\n",
    "    unrlzd_dates.append(spy.index[i])\n",
    "    if (ma1.iloc[i] - ma2.iloc[i]) > 0 and (ma1.iloc[i-1] - ma2.iloc[i-1]) < 0:\n",
    "        if entry:\n",
    "            # calculate pnl for previous short\n",
    "            pnl = (entry - spy.iloc[i])/entry  # normalize with entry to get the percentage change\n",
    "            pnls.append(pnl)\n",
    "            dates.append(spy.index[i])\n",
    "            hold_times.append((spy.index[i] - start).total_seconds())\n",
    "        entry = spy.iloc[i] \n",
    "        inpos = 1\n",
    "        start = spy.index[i]\n",
    "        print(\"entery long\", pnl)\n",
    "\n",
    "    elif (ma1.iloc[i] - ma2.iloc[i]) < 0 and (ma1.iloc[i-1] - ma2.iloc[i-1]) > 0:\n",
    "        if entry:\n",
    "            # calculate pnl for previous long\n",
    "            pnl = (spy.iloc[i] - entry) / entry # normalize with entry to get percentage change\n",
    "            pnls.append(pnl)\n",
    "            dates.append(spy.index[i])\n",
    "            hold_times.append((spy.index[i] - start).total_seconds())\n",
    "        entry = spy.iloc[i] \n",
    "        inpos = -1\n",
    "        start = spy.index[i]\n",
    "        print(\"enter short\", pnl)"
   ]
  },
  {
   "cell_type": "code",
   "execution_count": 43,
   "metadata": {},
   "outputs": [
    {
     "data": {
      "text/plain": [
       "np.float64(121.74157303370787)"
      ]
     },
     "execution_count": 43,
     "metadata": {},
     "output_type": "execute_result"
    }
   ],
   "source": [
    "np.mean([x/86400 for x in hold_times]) # hold time in days average"
   ]
  },
  {
   "cell_type": "code",
   "execution_count": null,
   "metadata": {},
   "outputs": [],
   "source": []
  }
 ],
 "metadata": {
  "kernelspec": {
   "display_name": "base",
   "language": "python",
   "name": "python3"
  },
  "language_info": {
   "codemirror_mode": {
    "name": "ipython",
    "version": 3
   },
   "file_extension": ".py",
   "mimetype": "text/x-python",
   "name": "python",
   "nbconvert_exporter": "python",
   "pygments_lexer": "ipython3",
   "version": "3.12.2"
  }
 },
 "nbformat": 4,
 "nbformat_minor": 2
}
