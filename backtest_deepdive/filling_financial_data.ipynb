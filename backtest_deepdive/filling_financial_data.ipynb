{
 "cells": [
  {
   "cell_type": "code",
   "execution_count": 1,
   "metadata": {},
   "outputs": [],
   "source": [
    "import yfinance as yf\n",
    "import numpy as np\n",
    "import matplotlib.pyplot as plt\n",
    "import pandas as pd\n",
    "import talib\n",
    "import datetime\n",
    "from scipy.interpolate import griddata\n",
    "from matplotlib import cm"
   ]
  },
  {
   "cell_type": "code",
   "execution_count": 2,
   "metadata": {},
   "outputs": [
    {
     "name": "stderr",
     "output_type": "stream",
     "text": [
      "[*********************100%***********************]  2 of 2 completed\n"
     ]
    },
    {
     "data": {
      "text/html": [
       "<div>\n",
       "<style scoped>\n",
       "    .dataframe tbody tr th:only-of-type {\n",
       "        vertical-align: middle;\n",
       "    }\n",
       "\n",
       "    .dataframe tbody tr th {\n",
       "        vertical-align: top;\n",
       "    }\n",
       "\n",
       "    .dataframe thead th {\n",
       "        text-align: right;\n",
       "    }\n",
       "</style>\n",
       "<table border=\"1\" class=\"dataframe\">\n",
       "  <thead>\n",
       "    <tr style=\"text-align: right;\">\n",
       "      <th>Ticker</th>\n",
       "      <th>AAPL</th>\n",
       "      <th>SPY</th>\n",
       "    </tr>\n",
       "    <tr>\n",
       "      <th>Date</th>\n",
       "      <th></th>\n",
       "      <th></th>\n",
       "    </tr>\n",
       "  </thead>\n",
       "  <tbody>\n",
       "    <tr>\n",
       "      <th>1980-12-12</th>\n",
       "      <td>0.098834</td>\n",
       "      <td>NaN</td>\n",
       "    </tr>\n",
       "    <tr>\n",
       "      <th>1980-12-15</th>\n",
       "      <td>0.093678</td>\n",
       "      <td>NaN</td>\n",
       "    </tr>\n",
       "    <tr>\n",
       "      <th>1980-12-16</th>\n",
       "      <td>0.086802</td>\n",
       "      <td>NaN</td>\n",
       "    </tr>\n",
       "    <tr>\n",
       "      <th>1980-12-17</th>\n",
       "      <td>0.088951</td>\n",
       "      <td>NaN</td>\n",
       "    </tr>\n",
       "    <tr>\n",
       "      <th>1980-12-18</th>\n",
       "      <td>0.091530</td>\n",
       "      <td>NaN</td>\n",
       "    </tr>\n",
       "    <tr>\n",
       "      <th>...</th>\n",
       "      <td>...</td>\n",
       "      <td>...</td>\n",
       "    </tr>\n",
       "    <tr>\n",
       "      <th>2024-12-16</th>\n",
       "      <td>251.039993</td>\n",
       "      <td>604.754578</td>\n",
       "    </tr>\n",
       "    <tr>\n",
       "      <th>2024-12-17</th>\n",
       "      <td>253.479996</td>\n",
       "      <td>602.262939</td>\n",
       "    </tr>\n",
       "    <tr>\n",
       "      <th>2024-12-18</th>\n",
       "      <td>248.050003</td>\n",
       "      <td>584.313416</td>\n",
       "    </tr>\n",
       "    <tr>\n",
       "      <th>2024-12-19</th>\n",
       "      <td>249.789993</td>\n",
       "      <td>584.133972</td>\n",
       "    </tr>\n",
       "    <tr>\n",
       "      <th>2024-12-20</th>\n",
       "      <td>254.490005</td>\n",
       "      <td>591.150024</td>\n",
       "    </tr>\n",
       "  </tbody>\n",
       "</table>\n",
       "<p>11099 rows × 2 columns</p>\n",
       "</div>"
      ],
      "text/plain": [
       "Ticker            AAPL         SPY\n",
       "Date                              \n",
       "1980-12-12    0.098834         NaN\n",
       "1980-12-15    0.093678         NaN\n",
       "1980-12-16    0.086802         NaN\n",
       "1980-12-17    0.088951         NaN\n",
       "1980-12-18    0.091530         NaN\n",
       "...                ...         ...\n",
       "2024-12-16  251.039993  604.754578\n",
       "2024-12-17  253.479996  602.262939\n",
       "2024-12-18  248.050003  584.313416\n",
       "2024-12-19  249.789993  584.133972\n",
       "2024-12-20  254.490005  591.150024\n",
       "\n",
       "[11099 rows x 2 columns]"
      ]
     },
     "execution_count": 2,
     "metadata": {},
     "output_type": "execute_result"
    }
   ],
   "source": [
    "stk = yf.download('SPY, AAPL')\n",
    "adj = stk['Close']\n",
    "adj"
   ]
  },
  {
   "cell_type": "markdown",
   "metadata": {},
   "source": [
    "# Filling"
   ]
  },
  {
   "cell_type": "code",
   "execution_count": 3,
   "metadata": {},
   "outputs": [
    {
     "name": "stderr",
     "output_type": "stream",
     "text": [
      "/tmp/ipykernel_28849/1392607416.py:3: FutureWarning: 'H' is deprecated and will be removed in a future version, please use 'h' instead.\n",
      "  adj.resample('1H').ffill()\n"
     ]
    },
    {
     "data": {
      "text/html": [
       "<div>\n",
       "<style scoped>\n",
       "    .dataframe tbody tr th:only-of-type {\n",
       "        vertical-align: middle;\n",
       "    }\n",
       "\n",
       "    .dataframe tbody tr th {\n",
       "        vertical-align: top;\n",
       "    }\n",
       "\n",
       "    .dataframe thead th {\n",
       "        text-align: right;\n",
       "    }\n",
       "</style>\n",
       "<table border=\"1\" class=\"dataframe\">\n",
       "  <thead>\n",
       "    <tr style=\"text-align: right;\">\n",
       "      <th>Ticker</th>\n",
       "      <th>AAPL</th>\n",
       "      <th>SPY</th>\n",
       "    </tr>\n",
       "    <tr>\n",
       "      <th>Date</th>\n",
       "      <th></th>\n",
       "      <th></th>\n",
       "    </tr>\n",
       "  </thead>\n",
       "  <tbody>\n",
       "    <tr>\n",
       "      <th>1980-12-12 00:00:00</th>\n",
       "      <td>0.098834</td>\n",
       "      <td>NaN</td>\n",
       "    </tr>\n",
       "    <tr>\n",
       "      <th>1980-12-12 01:00:00</th>\n",
       "      <td>0.098834</td>\n",
       "      <td>NaN</td>\n",
       "    </tr>\n",
       "    <tr>\n",
       "      <th>1980-12-12 02:00:00</th>\n",
       "      <td>0.098834</td>\n",
       "      <td>NaN</td>\n",
       "    </tr>\n",
       "    <tr>\n",
       "      <th>1980-12-12 03:00:00</th>\n",
       "      <td>0.098834</td>\n",
       "      <td>NaN</td>\n",
       "    </tr>\n",
       "    <tr>\n",
       "      <th>1980-12-12 04:00:00</th>\n",
       "      <td>0.098834</td>\n",
       "      <td>NaN</td>\n",
       "    </tr>\n",
       "    <tr>\n",
       "      <th>...</th>\n",
       "      <td>...</td>\n",
       "      <td>...</td>\n",
       "    </tr>\n",
       "    <tr>\n",
       "      <th>2024-12-19 20:00:00</th>\n",
       "      <td>249.789993</td>\n",
       "      <td>584.133972</td>\n",
       "    </tr>\n",
       "    <tr>\n",
       "      <th>2024-12-19 21:00:00</th>\n",
       "      <td>249.789993</td>\n",
       "      <td>584.133972</td>\n",
       "    </tr>\n",
       "    <tr>\n",
       "      <th>2024-12-19 22:00:00</th>\n",
       "      <td>249.789993</td>\n",
       "      <td>584.133972</td>\n",
       "    </tr>\n",
       "    <tr>\n",
       "      <th>2024-12-19 23:00:00</th>\n",
       "      <td>249.789993</td>\n",
       "      <td>584.133972</td>\n",
       "    </tr>\n",
       "    <tr>\n",
       "      <th>2024-12-20 00:00:00</th>\n",
       "      <td>254.490005</td>\n",
       "      <td>591.150024</td>\n",
       "    </tr>\n",
       "  </tbody>\n",
       "</table>\n",
       "<p>385897 rows × 2 columns</p>\n",
       "</div>"
      ],
      "text/plain": [
       "Ticker                     AAPL         SPY\n",
       "Date                                       \n",
       "1980-12-12 00:00:00    0.098834         NaN\n",
       "1980-12-12 01:00:00    0.098834         NaN\n",
       "1980-12-12 02:00:00    0.098834         NaN\n",
       "1980-12-12 03:00:00    0.098834         NaN\n",
       "1980-12-12 04:00:00    0.098834         NaN\n",
       "...                         ...         ...\n",
       "2024-12-19 20:00:00  249.789993  584.133972\n",
       "2024-12-19 21:00:00  249.789993  584.133972\n",
       "2024-12-19 22:00:00  249.789993  584.133972\n",
       "2024-12-19 23:00:00  249.789993  584.133972\n",
       "2024-12-20 00:00:00  254.490005  591.150024\n",
       "\n",
       "[385897 rows x 2 columns]"
      ]
     },
     "execution_count": 3,
     "metadata": {},
     "output_type": "execute_result"
    }
   ],
   "source": [
    "# always ffill data, when you dont have specific reason\n",
    "\n",
    "adj.resample('1H').ffill()"
   ]
  },
  {
   "cell_type": "code",
   "execution_count": 12,
   "metadata": {},
   "outputs": [
    {
     "name": "stderr",
     "output_type": "stream",
     "text": [
      "/tmp/ipykernel_28849/2984430507.py:1: FutureWarning: 'H' is deprecated and will be removed in a future version, please use 'h' instead.\n",
      "  adj.resample('1H').ffill().SPY.plot()\n",
      "/tmp/ipykernel_28849/2984430507.py:2: FutureWarning: 'H' is deprecated and will be removed in a future version, please use 'h' instead.\n",
      "  adj.resample('1H').ffill().AAPL.plot()\n"
     ]
    },
    {
     "data": {
      "image/png": "[encoded data removed]",
      "text/plain": [
       "<Figure size 640x480 with 1 Axes>"
      ]
     },
     "metadata": {},
     "output_type": "display_data"
    }
   ],
   "source": [
    "adj.resample('1H').ffill().SPY.plot()\n",
    "adj.resample('1H').ffill().AAPL.plot()\n",
    "plt.show()"
   ]
  },
  {
   "cell_type": "code",
   "execution_count": null,
   "metadata": {},
   "outputs": [
    {
     "name": "stderr",
     "output_type": "stream",
     "text": [
      "/tmp/ipykernel_28849/2797067561.py:2: FutureWarning: 'H' is deprecated and will be removed in a future version, please use 'h' instead.\n",
      "  (1 + adj.pct_change().resample('1H').last().fillna(0)).AAPL.cumprod().plot()\n"
     ]
    },
    {
     "data": {
      "text/plain": [
       "<Axes: xlabel='Date'>"
      ]
     },
     "execution_count": 18,
     "metadata": {},
     "output_type": "execute_result"
    },
    {
     "data": {
      "image/png": "[encoded data removed]",
      "text/plain": [
       "<Figure size 640x480 with 1 Axes>"
      ]
     },
     "metadata": {},
     "output_type": "display_data"
    }
   ],
   "source": [
    "# do not use ffill when looking at returns, use fillna function instead of ffill or bfill\n",
    "(1 + adj.pct_change().resample('1H').last().fillna(0)).AAPL.cumprod().plot()"
   ]
  },
  {
   "cell_type": "code",
   "execution_count": null,
   "metadata": {},
   "outputs": [],
   "source": []
  }
 ],
 "metadata": {
  "kernelspec": {
   "display_name": "base",
   "language": "python",
   "name": "python3"
  },
  "language_info": {
   "codemirror_mode": {
    "name": "ipython",
    "version": 3
   },
   "file_extension": ".py",
   "mimetype": "text/x-python",
   "name": "python",
   "nbconvert_exporter": "python",
   "pygments_lexer": "ipython3",
   "version": "3.12.2"
  }
 },
 "nbformat": 4,
 "nbformat_minor": 2
}
